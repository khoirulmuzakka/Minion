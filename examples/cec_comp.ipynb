{
 "cells": [
  {
   "cell_type": "code",
   "execution_count": null,
   "metadata": {},
   "outputs": [],
   "source": [
    "import sys\n",
    "import os\n",
    "sys.path.append(\"./../bin/Release\")\n",
    "import numpy as np\n",
    "import time\n",
    "from scipy.optimize import differential_evolution, minimize\n",
    "import matplotlib.pyplot as plt\n",
    "import pandas as pd"
   ]
  },
  {
   "cell_type": "code",
   "execution_count": null,
   "metadata": {},
   "outputs": [],
   "source": [
    "goptimum_cec22 = {\n",
    "    1 : 300, 2: 400, 3: 600, 4: 800, 5:900, 6:1800, 7:2000, 8:2200, 9:2300, 10: 2400, 11:2600, 12: 2700\n",
    "}\n",
    "goptimum_cec20 = {\n",
    "    1 : 100, 2: 1100, 3: 700, 4: 1900, 5:1700, 6:1600, 7:2100, 8:2200, 9:2400, 10: 2500\n",
    "}\n",
    "goptimum_cec17 = { i:100*i for i in range(1, 31)}\n",
    "goptimum_cec20 = np.array(list(goptimum_cec20.values()))\n",
    "goptimum_cec22 = np.array(list(goptimum_cec22.values()))\n",
    "goptimum_cec17 = np.array(list(goptimum_cec17.values()))\n",
    "goptimum_cec17"
   ]
  },
  {
   "cell_type": "markdown",
   "metadata": {},
   "source": [
    "# CEC 2017"
   ]
  },
  {
   "cell_type": "code",
   "execution_count": null,
   "metadata": {},
   "outputs": [],
   "source": []
  },
  {
   "cell_type": "code",
   "execution_count": null,
   "metadata": {},
   "outputs": [],
   "source": [
    "filename = \"./../bin/Release/results_2017_NLSHADE_RSP_10_100000.txt\"\n",
    "data = np.loadtxt(filename, delimiter='\\t')\n",
    "filename = \"./../bin/Release/results_2017_ARRDE_10_100000.txt\"\n",
    "data1 = np.loadtxt(filename, delimiter='\\t')\n",
    "filename = \"./../bin/Release/results_2017_j2020_10_100000.txt\"\n",
    "data2 = np.loadtxt(filename, delimiter='\\t')\n",
    "filename = \"./../bin/Release/results_2017_LSHADE_10_100000.txt\"\n",
    "data3 = np.loadtxt(filename, delimiter='\\t')\n",
    "filename = \"./../bin/Release/results_2017_jSO_10_100000.txt\"\n",
    "data4 = np.loadtxt(filename, delimiter='\\t')\n",
    "df = pd.DataFrame({\n",
    "    \"NLSHADE_RSP\" : np.mean(np.abs(data-goptimum_cec17), axis=0), \n",
    "    \"ARRDE\" : np.mean(np.abs(data1-goptimum_cec17), axis=0), \n",
    "    \"j2020\" : np.mean(np.abs(data2-goptimum_cec17), axis=0), \n",
    "    \"LSHADE\" : np.mean(np.abs(data3-goptimum_cec17), axis=0), \n",
    "    \"jSO\" : np.mean(np.abs(data4-goptimum_cec17), axis=0)\n",
    "    })\n",
    "df"
   ]
  },
  {
   "cell_type": "code",
   "execution_count": null,
   "metadata": {},
   "outputs": [],
   "source": [
    "filename = \"./../bin/Release/results_2017_NLSHADE_RSP_30_300000.txt\"\n",
    "data = np.loadtxt(filename, delimiter='\\t')\n",
    "filename = \"./../bin/Release/results_2017_ARRDE_30_300000.txt\"\n",
    "data1 = np.loadtxt(filename, delimiter='\\t')\n",
    "filename = \"./../bin/Release/results_2017_j2020_30_300000.txt\"\n",
    "data2 = np.loadtxt(filename, delimiter='\\t')\n",
    "filename = \"./../bin/Release/results_2017_LSHADE_30_300000.txt\"\n",
    "data3 = np.loadtxt(filename, delimiter='\\t')\n",
    "filename = \"./../bin/Release/results_2017_jSO_30_300000.txt\"\n",
    "data4 = np.loadtxt(filename, delimiter='\\t')\n",
    "df = pd.DataFrame({\n",
    "    \"NLSHADE_RSP\" : np.mean(np.abs(data-goptimum_cec17), axis=0), \n",
    "    \"ARRDE\" : np.mean(np.abs(data1-goptimum_cec17), axis=0), \n",
    "    \"j2020\" : np.mean(np.abs(data2-goptimum_cec17), axis=0), \n",
    "    \"LSHADE\" : np.mean(np.abs(data3-goptimum_cec17), axis=0),\n",
    "    \"jSO\" : np.mean(np.abs(data4-goptimum_cec17), axis=0)\n",
    "    })\n",
    "df"
   ]
  },
  {
   "cell_type": "code",
   "execution_count": null,
   "metadata": {},
   "outputs": [],
   "source": [
    "filename = \"./../bin/Release/results_2017_NLSHADE_RSP_50_500000.txt\"\n",
    "data = np.loadtxt(filename, delimiter='\\t')\n",
    "filename = \"./../bin/Release/results_2017_ARRDE_50_500000.txt\"\n",
    "data1 = np.loadtxt(filename, delimiter='\\t')\n",
    "filename = \"./../bin/Release/results_2017_j2020_50_500000.txt\"\n",
    "data2 = np.loadtxt(filename, delimiter='\\t')\n",
    "filename = \"./../bin/Release/results_2017_LSHADE_50_500000.txt\"\n",
    "data3 = np.loadtxt(filename, delimiter='\\t')\n",
    "filename = \"./../bin/Release/results_2017_jSO_50_500000.txt\"\n",
    "data4 = np.loadtxt(filename, delimiter='\\t')\n",
    "df = pd.DataFrame({\n",
    "    \"NLSHADE_RSP\" : np.mean(np.abs(data-goptimum_cec17), axis=0), \n",
    "    \"ARRDE\" : np.mean(np.abs(data1-goptimum_cec17), axis=0), \n",
    "    \"j2020\" : np.mean(np.abs(data2-goptimum_cec17), axis=0), \n",
    "    \"LSHADE\" : np.mean(np.abs(data3-goptimum_cec17), axis=0), \n",
    "     \"jSO\" : np.mean(np.abs(data4-goptimum_cec17), axis=0)\n",
    "    })\n",
    "df"
   ]
  },
  {
   "cell_type": "code",
   "execution_count": null,
   "metadata": {},
   "outputs": [],
   "source": [
    "filename = \"./../bin/Release/results_2017_NLSHADE_RSP_100_1000000.txt\"\n",
    "data = np.loadtxt(filename, delimiter='\\t')\n",
    "filename = \"./../bin/Release/results_2017_ARRDE_100_1000000.txt\"\n",
    "data1 = np.loadtxt(filename, delimiter='\\t')\n",
    "#filename = \"./../bin/Release/results_2017_j2020_100_1000000.txt\"\n",
    "#data2 = np.loadtxt(filename, delimiter='\\t')\n",
    "filename = \"./../bin/Release/results_2017_LSHADE_100_1000000.txt\"\n",
    "data3 = np.loadtxt(filename, delimiter='\\t')\n",
    "filename = \"./../bin/Release/results_2017_jSO_100_1000000.txt\"\n",
    "data4 = np.loadtxt(filename, delimiter='\\t')\n",
    "df = pd.DataFrame({\n",
    "    \"NLSHADE_RSP\" : np.mean(np.abs(data-goptimum_cec17), axis=0), \n",
    "    \"ARRDE\" : np.mean(np.abs(data1-goptimum_cec17), axis=0), \n",
    "    #\"j2020\" : np.mean(np.abs(data2-goptimum_cec17), axis=0), \n",
    "    \"LSHADE\" : np.mean(np.abs(data3-goptimum_cec17), axis=0), \n",
    "     \"jSO\" : np.mean(np.abs(data4-goptimum_cec17), axis=0)\n",
    "    })\n",
    "df"
   ]
  },
  {
   "cell_type": "markdown",
   "metadata": {},
   "source": [
    "# CEC 2020"
   ]
  },
  {
   "cell_type": "code",
   "execution_count": null,
   "metadata": {},
   "outputs": [],
   "source": [
    "filename = \"./../bin/Release/results_2020_NLSHADE_RSP_10_100000.txt\"\n",
    "data = np.loadtxt(filename, delimiter='\\t')\n",
    "filename = \"./../bin/Release/results_2020_ARRDE_10_100000.txt\"\n",
    "data1 = np.loadtxt(filename, delimiter='\\t')\n",
    "filename = \"./../bin/Release/results_2020_j2020_10_100000.txt\"\n",
    "data2 = np.loadtxt(filename, delimiter='\\t')\n",
    "filename = \"./../bin/Release/results_2020_jSO_10_100000.txt\"\n",
    "data4 = np.loadtxt(filename, delimiter='\\t')\n",
    "df = pd.DataFrame({\n",
    "    \"NLSHADE_RSP\" : np.mean(np.abs(data-goptimum_cec20), axis=0), \n",
    "    \"ARRDE\" : np.mean(np.abs(data1-goptimum_cec20), axis=0), \n",
    "    \"j2020\" : np.mean(np.abs(data2-goptimum_cec20), axis=0), \n",
    "    \"jSO\" : np.mean(np.abs(data4-goptimum_cec20), axis=0)\n",
    "    })\n",
    "df"
   ]
  },
  {
   "cell_type": "code",
   "execution_count": null,
   "metadata": {},
   "outputs": [],
   "source": [
    "filename = \"./../bin/Release/results_2020_NLSHADE_RSP_10_1000000.txt\"\n",
    "data = np.loadtxt(filename, delimiter='\\t')\n",
    "filename = \"./../bin/Release/results_2020_ARRDE_10_1000000.txt\"\n",
    "data1 = np.loadtxt(filename, delimiter='\\t')\n",
    "filename = \"./../bin/Release/results_2020_j2020_10_1000000.txt\"\n",
    "data2 = np.loadtxt(filename, delimiter='\\t')\n",
    "filename = \"./../bin/Release/results_2020_LSHADE_10_1000000.txt\"\n",
    "data3 = np.loadtxt(filename, delimiter='\\t')\n",
    "filename = \"./../bin/Release/results_2020_jSO_10_1000000.txt\"\n",
    "data4 = np.loadtxt(filename, delimiter='\\t')\n",
    "df = pd.DataFrame({\n",
    "    \"NLSHADE_RSP\" : np.mean(np.abs(data-goptimum_cec20), axis=0), \n",
    "    \"ARRDE\" : np.mean(np.abs(data1-goptimum_cec20), axis=0), \n",
    "    \"j2020\" : np.mean(np.abs(data2-goptimum_cec20), axis=0), \n",
    "    \"LSHADE\" : np.mean(np.abs(data3-goptimum_cec20), axis=0),\n",
    "    \"jSO\" : np.mean(np.abs(data4-goptimum_cec20), axis=0)\n",
    "    })\n",
    "df"
   ]
  },
  {
   "cell_type": "code",
   "execution_count": null,
   "metadata": {},
   "outputs": [],
   "source": [
    "filename = \"./../bin/Release/results_2020_NLSHADE_RSP_20_200000.txt\"\n",
    "data = np.loadtxt(filename, delimiter='\\t')\n",
    "filename = \"./../bin/Release/results_2020_ARRDE_20_200000.txt\"\n",
    "data1 = np.loadtxt(filename, delimiter='\\t')\n",
    "filename = \"./../bin/Release/results_2020_j2020_20_200000.txt\"\n",
    "data2 = np.loadtxt(filename, delimiter='\\t')\n",
    "df = pd.DataFrame({\n",
    "    \"NLSHADE_RSP\" : np.mean(np.abs(data-goptimum_cec20), axis=0), \n",
    "    \"ARRDE\" : np.mean(np.abs(data1-goptimum_cec20), axis=0), \n",
    "    \"j2020\" : np.mean(np.abs(data2-goptimum_cec20), axis=0)\n",
    "    })\n",
    "df"
   ]
  },
  {
   "cell_type": "markdown",
   "metadata": {},
   "source": [
    "# CEC 2022\n"
   ]
  },
  {
   "cell_type": "markdown",
   "metadata": {},
   "source": [
    "## 10D"
   ]
  },
  {
   "cell_type": "code",
   "execution_count": null,
   "metadata": {},
   "outputs": [],
   "source": [
    "filename = \"./../bin/Release/results_2022_NLSHADE_RSP_10_50000.txt\"\n",
    "data = np.loadtxt(filename, delimiter='\\t')\n",
    "filename = \"./../bin/Release/results_2022_ARRDE_10_50000.txt\"\n",
    "data1 = np.loadtxt(filename, delimiter='\\t')\n",
    "filename = \"./../bin/Release/results_2022_j2020_10_100000.txt\"\n",
    "data2 = np.loadtxt(filename, delimiter='\\t')\n",
    "filename = \"./../bin/Release/results_2022_LSHADE_10_100000.txt\"\n",
    "data3 = np.loadtxt(filename, delimiter='\\t')\n",
    "filename = \"./../bin/Release/results_2022_jSO_10_100000.txt\"\n",
    "data4 = np.loadtxt(filename, delimiter='\\t')\n",
    "df = pd.DataFrame({\n",
    "    \"NLSHADE_RSP\" : np.mean(np.abs(data-goptimum_cec22), axis=0), \n",
    "    \"ARRDE\" : np.mean(np.abs(data1-goptimum_cec22), axis=0), \n",
    "    \"j2020\" : np.mean(np.abs(data2-goptimum_cec22), axis=0), \n",
    "    \"LSHADE\" : np.mean(np.abs(data3-goptimum_cec22), axis=0), \n",
    "    \"jSO\" : np.mean(np.abs(data4-goptimum_cec22), axis=0)\n",
    "    })\n",
    "df"
   ]
  },
  {
   "cell_type": "code",
   "execution_count": null,
   "metadata": {},
   "outputs": [],
   "source": [
    "filename = \"./../bin/Release/results_2022_NLSHADE_RSP_10_100000.txt\"\n",
    "data = np.loadtxt(filename, delimiter='\\t')\n",
    "filename = \"./../bin/Release/results_2022_ARRDE_10_100000.txt\"\n",
    "data1 = np.loadtxt(filename, delimiter='\\t')\n",
    "filename = \"./../bin/Release/results_2022_j2020_10_100000.txt\"\n",
    "data2 = np.loadtxt(filename, delimiter='\\t')\n",
    "filename = \"./../bin/Release/results_2022_LSHADE_10_100000.txt\"\n",
    "data3 = np.loadtxt(filename, delimiter='\\t')\n",
    "filename = \"./../bin/Release/results_2022_jSO_10_100000.txt\"\n",
    "data4 = np.loadtxt(filename, delimiter='\\t')\n",
    "df = pd.DataFrame({\n",
    "    \"NLSHADE_RSP\" : np.mean(np.abs(data-goptimum_cec22), axis=0), \n",
    "    \"ARRDE\" : np.mean(np.abs(data1-goptimum_cec22), axis=0), \n",
    "    \"j2020\" : np.mean(np.abs(data2-goptimum_cec22), axis=0),\n",
    "    \"LSHADE\" : np.mean(np.abs(data3-goptimum_cec22), axis=0),\n",
    "    \"jSO\" : np.mean(np.abs(data4-goptimum_cec22), axis=0),\n",
    "    })\n",
    "df"
   ]
  },
  {
   "cell_type": "code",
   "execution_count": null,
   "metadata": {},
   "outputs": [],
   "source": [
    "filename = \"./../bin/Release/results_2022_NLSHADE_RSP_10_200000.txt\"\n",
    "data = np.loadtxt(filename, delimiter='\\t')\n",
    "filename = \"./../bin/Release/results_2022_ARRDE_10_200000.txt\"\n",
    "data1 = np.loadtxt(filename, delimiter='\\t')\n",
    "filename = \"./../bin/Release/results_2022_j2020_10_200000.txt\"\n",
    "data2 = np.loadtxt(filename, delimiter='\\t')\n",
    "filename = \"./../bin/Release/results_2022_LSHADE_10_200000.txt\"\n",
    "data3 = np.loadtxt(filename, delimiter='\\t')\n",
    "filename = \"./../bin/Release/results_2022_jSO_10_200000.txt\"\n",
    "data4 = np.loadtxt(filename, delimiter='\\t')\n",
    "df = pd.DataFrame({\n",
    "    \"NLSHADE_RSP\" : np.mean(np.abs(data-goptimum_cec22), axis=0), \n",
    "    \"ARRDE\" : np.mean(np.abs(data1-goptimum_cec22), axis=0), \n",
    "    \"j2020\" : np.mean(np.abs(data2-goptimum_cec22), axis=0),\n",
    "    \"LSHADE\" : np.mean(np.abs(data3-goptimum_cec22), axis=0),\n",
    "    \"jSO\" : np.mean(np.abs(data4-goptimum_cec22), axis=0),\n",
    "    })\n",
    "df"
   ]
  },
  {
   "cell_type": "code",
   "execution_count": null,
   "metadata": {},
   "outputs": [],
   "source": [
    "filename = \"./../bin/Release/results_2022_NLSHADE_RSP_10_500000.txt\"\n",
    "data = np.loadtxt(filename, delimiter='\\t')\n",
    "filename = \"./../bin/Release/results_2022_ARRDE_10_500000.txt\"\n",
    "data1 = np.loadtxt(filename, delimiter='\\t')\n",
    "filename = \"./../bin/Release/results_2022_j2020_10_500000.txt\"\n",
    "data2 = np.loadtxt(filename, delimiter='\\t')\n",
    "df = pd.DataFrame({\n",
    "    \"NLSHADE_RSP\" : np.mean(np.abs(data-goptimum_cec22), axis=0), \n",
    "    \"ARRDE\" : np.mean(np.abs(data1-goptimum_cec22), axis=0), \n",
    "    \"j2020\" : np.mean(np.abs(data2-goptimum_cec22), axis=0)\n",
    "    })\n",
    "df"
   ]
  },
  {
   "cell_type": "markdown",
   "metadata": {},
   "source": [
    "## 20D\n"
   ]
  },
  {
   "cell_type": "code",
   "execution_count": null,
   "metadata": {},
   "outputs": [],
   "source": [
    "filename = \"./../bin/Release/results_2022_NLSHADE_RSP_20_200000.txt\"\n",
    "data = np.loadtxt(filename, delimiter='\\t')\n",
    "filename = \"./../bin/Release/results_2022_ARRDE_20_200000.txt\"\n",
    "data1 = np.loadtxt(filename, delimiter='\\t')\n",
    "filename = \"./../bin/Release/results_2022_j2020_20_200000.txt\"\n",
    "data2 = np.loadtxt(filename, delimiter='\\t')\n",
    "filename = \"./../bin/Release/results_2022_LSHADE_20_200000.txt\"\n",
    "data3 = np.loadtxt(filename, delimiter='\\t')\n",
    "filename = \"./../bin/Release/results_2022_jSO_20_200000.txt\"\n",
    "data4 = np.loadtxt(filename, delimiter='\\t')\n",
    "df = pd.DataFrame({\n",
    "    \"NLSHADE_RSP\" : np.mean(np.abs(data-goptimum_cec22), axis=0), \n",
    "    \"ARRDE\" : np.mean(np.abs(data1-goptimum_cec22), axis=0), \n",
    "    \"j2020\" : np.mean(np.abs(data2-goptimum_cec22), axis=0), \n",
    "    \"LSHADE\" : np.mean(np.abs(data3-goptimum_cec22), axis=0), \n",
    "    \"jSO\" : np.mean(np.abs(data4-goptimum_cec22), axis=0)\n",
    "    })\n",
    "df"
   ]
  },
  {
   "cell_type": "code",
   "execution_count": null,
   "metadata": {},
   "outputs": [],
   "source": []
  }
 ],
 "metadata": {
  "kernelspec": {
   "display_name": "Python 3",
   "language": "python",
   "name": "python3"
  },
  "language_info": {
   "codemirror_mode": {
    "name": "ipython",
    "version": 3
   },
   "file_extension": ".py",
   "mimetype": "text/x-python",
   "name": "python",
   "nbconvert_exporter": "python",
   "pygments_lexer": "ipython3",
   "version": "3.12.4"
  }
 },
 "nbformat": 4,
 "nbformat_minor": 2
}
