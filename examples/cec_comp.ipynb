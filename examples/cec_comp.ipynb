{
 "cells": [
  {
   "cell_type": "code",
   "execution_count": null,
   "metadata": {},
   "outputs": [],
   "source": [
    "import sys\n",
    "import os\n",
    "sys.path.append(\"./../bin/Release\")\n",
    "import numpy as np\n",
    "import time\n",
    "from scipy.optimize import differential_evolution, minimize\n",
    "import matplotlib.pyplot as plt\n",
    "import pandas as pd"
   ]
  },
  {
   "cell_type": "code",
   "execution_count": null,
   "metadata": {},
   "outputs": [],
   "source": [
    "filename = \"./../bin/Release/results_NLSHADE_RSP_10.txt\"\n",
    "data = np.loadtxt(filename, delimiter='\\t')\n",
    "filename = \"./../bin/Release/results_ARRDE_10.txt\"\n",
    "data1 = np.loadtxt(filename, delimiter='\\t')\n",
    "filename = \"./../bin/Release/results_j2020_10.txt\"\n",
    "data2 = np.loadtxt(filename, delimiter='\\t')\n",
    "df = pd.DataFrame({\"NLSHADE_RSP\" : np.mean(data, axis=0), \"ARRDE\" : np.mean(data1, axis=0), \"j2020\" : np.mean(data2, axis=0)})\n",
    "df"
   ]
  },
  {
   "cell_type": "code",
   "execution_count": null,
   "metadata": {},
   "outputs": [],
   "source": [
    "filename = \"./../bin/Release/results_NLSHADE_RSP_30.txt\"\n",
    "data = np.loadtxt(filename, delimiter='\\t')\n",
    "filename = \"./../bin/Release/results_ARRDE_30.txt\"\n",
    "#data1 = np.loadtxt(filename, delimiter='\\t')\n",
    "#filename = \"./../bin/Release/results_j2020_10.txt\"\n",
    "data2 = np.loadtxt(filename, delimiter='\\t')\n",
    "df = pd.DataFrame({\"NLSHADE_RSP\" : np.mean(data, axis=0), \"ARRDE\" : np.mean(data1, axis=0)})\n",
    "df"
   ]
  },
  {
   "cell_type": "code",
   "execution_count": null,
   "metadata": {},
   "outputs": [],
   "source": [
    "filename = \"./../bin/Release/results_NLSHADE_RSP_50.txt\"\n",
    "data = np.loadtxt(filename, delimiter='\\t')\n",
    "filename = \"./../bin/Release/results_ARRDE_50.txt\"\n",
    "data1 = np.loadtxt(filename, delimiter='\\t')\n",
    "filename = \"./../bin/Release/results_LSHADE_50.txt\"\n",
    "data2 = np.loadtxt(filename, delimiter='\\t')\n",
    "df = pd.DataFrame({\"NLSHADE_RSP\" : np.mean(data, axis=0), \"ARRDE\" : np.mean(data1, axis=0), \"LSHADE\" : np.mean(data2, axis=0)})\n",
    "df"
   ]
  },
  {
   "cell_type": "code",
   "execution_count": null,
   "metadata": {},
   "outputs": [],
   "source": []
  }
 ],
 "metadata": {
  "kernelspec": {
   "display_name": "Python 3",
   "language": "python",
   "name": "python3"
  },
  "language_info": {
   "codemirror_mode": {
    "name": "ipython",
    "version": 3
   },
   "file_extension": ".py",
   "mimetype": "text/x-python",
   "name": "python",
   "nbconvert_exporter": "python",
   "pygments_lexer": "ipython3",
   "version": "3.12.4"
  }
 },
 "nbformat": 4,
 "nbformat_minor": 2
}
